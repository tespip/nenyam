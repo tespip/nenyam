{
 "cells": [
  {
   "cell_type": "markdown",
   "metadata": {},
   "source": [
    "<h1>Модуль A</h1>"
   ]
  },
  {
   "cell_type": "markdown",
   "metadata": {},
   "source": [
    "<h3>0. Импорт бибилиотек</h3>"
   ]
  },
  {
   "cell_type": "code",
   "execution_count": 12,
   "metadata": {},
   "outputs": [],
   "source": [
    "import pandas as pd\n",
    "import numpy as np\n",
    "import seaborn as sns\n",
    "import matplotlib.pyplot as plt\n",
    "import sqlite3"
   ]
  },
  {
   "cell_type": "markdown",
   "metadata": {},
   "source": [
    "<h3>1.1 Загрузка данных</h3>"
   ]
  },
  {
   "cell_type": "code",
   "execution_count": 13,
   "metadata": {},
   "outputs": [
    {
     "data": {
      "text/html": [
       "<div>\n",
       "<style scoped>\n",
       "    .dataframe tbody tr th:only-of-type {\n",
       "        vertical-align: middle;\n",
       "    }\n",
       "\n",
       "    .dataframe tbody tr th {\n",
       "        vertical-align: top;\n",
       "    }\n",
       "\n",
       "    .dataframe thead th {\n",
       "        text-align: right;\n",
       "    }\n",
       "</style>\n",
       "<table border=\"1\" class=\"dataframe\">\n",
       "  <thead>\n",
       "    <tr style=\"text-align: right;\">\n",
       "      <th></th>\n",
       "      <th>dt</th>\n",
       "      <th>Channel</th>\n",
       "      <th>costs</th>\n",
       "    </tr>\n",
       "  </thead>\n",
       "  <tbody>\n",
       "    <tr>\n",
       "      <th>0</th>\n",
       "      <td>2022-05-01</td>\n",
       "      <td>FaceBoom</td>\n",
       "      <td>113.3</td>\n",
       "    </tr>\n",
       "    <tr>\n",
       "      <th>1</th>\n",
       "      <td>2022-05-02</td>\n",
       "      <td>FaceBoom</td>\n",
       "      <td>78.1</td>\n",
       "    </tr>\n",
       "    <tr>\n",
       "      <th>2</th>\n",
       "      <td>2022-05-03</td>\n",
       "      <td>FaceBoom</td>\n",
       "      <td>85.8</td>\n",
       "    </tr>\n",
       "    <tr>\n",
       "      <th>3</th>\n",
       "      <td>2022-05-04</td>\n",
       "      <td>FaceBoom</td>\n",
       "      <td>136.4</td>\n",
       "    </tr>\n",
       "    <tr>\n",
       "      <th>4</th>\n",
       "      <td>2022-05-05</td>\n",
       "      <td>FaceBoom</td>\n",
       "      <td>122.1</td>\n",
       "    </tr>\n",
       "    <tr>\n",
       "      <th>...</th>\n",
       "      <td>...</td>\n",
       "      <td>...</td>\n",
       "      <td>...</td>\n",
       "    </tr>\n",
       "    <tr>\n",
       "      <th>1795</th>\n",
       "      <td>2022-10-23</td>\n",
       "      <td>lambdaMediaAds</td>\n",
       "      <td>4.0</td>\n",
       "    </tr>\n",
       "    <tr>\n",
       "      <th>1796</th>\n",
       "      <td>2022-10-24</td>\n",
       "      <td>lambdaMediaAds</td>\n",
       "      <td>6.4</td>\n",
       "    </tr>\n",
       "    <tr>\n",
       "      <th>1797</th>\n",
       "      <td>2022-10-25</td>\n",
       "      <td>lambdaMediaAds</td>\n",
       "      <td>8.8</td>\n",
       "    </tr>\n",
       "    <tr>\n",
       "      <th>1798</th>\n",
       "      <td>2022-10-26</td>\n",
       "      <td>lambdaMediaAds</td>\n",
       "      <td>8.8</td>\n",
       "    </tr>\n",
       "    <tr>\n",
       "      <th>1799</th>\n",
       "      <td>2022-10-27</td>\n",
       "      <td>lambdaMediaAds</td>\n",
       "      <td>12.0</td>\n",
       "    </tr>\n",
       "  </tbody>\n",
       "</table>\n",
       "<p>1800 rows × 3 columns</p>\n",
       "</div>"
      ],
      "text/plain": [
       "              dt         Channel  costs\n",
       "0     2022-05-01        FaceBoom  113.3\n",
       "1     2022-05-02        FaceBoom   78.1\n",
       "2     2022-05-03        FaceBoom   85.8\n",
       "3     2022-05-04        FaceBoom  136.4\n",
       "4     2022-05-05        FaceBoom  122.1\n",
       "...          ...             ...    ...\n",
       "1795  2022-10-23  lambdaMediaAds    4.0\n",
       "1796  2022-10-24  lambdaMediaAds    6.4\n",
       "1797  2022-10-25  lambdaMediaAds    8.8\n",
       "1798  2022-10-26  lambdaMediaAds    8.8\n",
       "1799  2022-10-27  lambdaMediaAds   12.0\n",
       "\n",
       "[1800 rows x 3 columns]"
      ]
     },
     "execution_count": 13,
     "metadata": {},
     "output_type": "execute_result"
    }
   ],
   "source": [
    "expenses = pd.read_csv('expenses.csv')\n",
    "expenses"
   ]
  },
  {
   "cell_type": "code",
   "execution_count": 16,
   "metadata": {},
   "outputs": [
    {
     "data": {
      "text/html": [
       "<div>\n",
       "<style scoped>\n",
       "    .dataframe tbody tr th:only-of-type {\n",
       "        vertical-align: middle;\n",
       "    }\n",
       "\n",
       "    .dataframe tbody tr th {\n",
       "        vertical-align: top;\n",
       "    }\n",
       "\n",
       "    .dataframe thead th {\n",
       "        text-align: right;\n",
       "    }\n",
       "</style>\n",
       "<table border=\"1\" class=\"dataframe\">\n",
       "  <thead>\n",
       "    <tr style=\"text-align: right;\">\n",
       "      <th></th>\n",
       "      <th>User Id</th>\n",
       "      <th>Event Dt</th>\n",
       "      <th>Revenue</th>\n",
       "    </tr>\n",
       "  </thead>\n",
       "  <tbody>\n",
       "    <tr>\n",
       "      <th>0</th>\n",
       "      <td>188246423999</td>\n",
       "      <td>2022-05-01 23:09:52</td>\n",
       "      <td>4.99</td>\n",
       "    </tr>\n",
       "    <tr>\n",
       "      <th>1</th>\n",
       "      <td>174361394180</td>\n",
       "      <td>2022-05-01 12:24:04</td>\n",
       "      <td>4.99</td>\n",
       "    </tr>\n",
       "    <tr>\n",
       "      <th>2</th>\n",
       "      <td>529610067795</td>\n",
       "      <td>2022-05-01 11:34:04</td>\n",
       "      <td>4.99</td>\n",
       "    </tr>\n",
       "    <tr>\n",
       "      <th>3</th>\n",
       "      <td>319939546352</td>\n",
       "      <td>2022-05-01 15:34:40</td>\n",
       "      <td>4.99</td>\n",
       "    </tr>\n",
       "    <tr>\n",
       "      <th>4</th>\n",
       "      <td>366000285810</td>\n",
       "      <td>2022-05-01 13:59:51</td>\n",
       "      <td>4.99</td>\n",
       "    </tr>\n",
       "    <tr>\n",
       "      <th>...</th>\n",
       "      <td>...</td>\n",
       "      <td>...</td>\n",
       "      <td>...</td>\n",
       "    </tr>\n",
       "    <tr>\n",
       "      <th>40207</th>\n",
       "      <td>651604369137</td>\n",
       "      <td>2022-10-31 16:19:07</td>\n",
       "      <td>4.99</td>\n",
       "    </tr>\n",
       "    <tr>\n",
       "      <th>40208</th>\n",
       "      <td>275341387049</td>\n",
       "      <td>2022-10-31 01:17:17</td>\n",
       "      <td>4.99</td>\n",
       "    </tr>\n",
       "    <tr>\n",
       "      <th>40209</th>\n",
       "      <td>374656616484</td>\n",
       "      <td>2022-10-31 06:17:29</td>\n",
       "      <td>4.99</td>\n",
       "    </tr>\n",
       "    <tr>\n",
       "      <th>40210</th>\n",
       "      <td>168548862926</td>\n",
       "      <td>2022-10-31 22:46:19</td>\n",
       "      <td>4.99</td>\n",
       "    </tr>\n",
       "    <tr>\n",
       "      <th>40211</th>\n",
       "      <td>329994900775</td>\n",
       "      <td>2022-10-31 13:29:06</td>\n",
       "      <td>4.99</td>\n",
       "    </tr>\n",
       "  </tbody>\n",
       "</table>\n",
       "<p>40212 rows × 3 columns</p>\n",
       "</div>"
      ],
      "text/plain": [
       "            User Id             Event Dt  Revenue\n",
       "0      188246423999  2022-05-01 23:09:52     4.99\n",
       "1      174361394180  2022-05-01 12:24:04     4.99\n",
       "2      529610067795  2022-05-01 11:34:04     4.99\n",
       "3      319939546352  2022-05-01 15:34:40     4.99\n",
       "4      366000285810  2022-05-01 13:59:51     4.99\n",
       "...             ...                  ...      ...\n",
       "40207  651604369137  2022-10-31 16:19:07     4.99\n",
       "40208  275341387049  2022-10-31 01:17:17     4.99\n",
       "40209  374656616484  2022-10-31 06:17:29     4.99\n",
       "40210  168548862926  2022-10-31 22:46:19     4.99\n",
       "40211  329994900775  2022-10-31 13:29:06     4.99\n",
       "\n",
       "[40212 rows x 3 columns]"
      ]
     },
     "execution_count": 16,
     "metadata": {},
     "output_type": "execute_result"
    }
   ],
   "source": [
    "orders = pd.read_csv('orders.csv')\n",
    "orders"
   ]
  },
  {
   "cell_type": "code",
   "execution_count": 17,
   "metadata": {},
   "outputs": [
    {
     "data": {
      "text/html": [
       "<div>\n",
       "<style scoped>\n",
       "    .dataframe tbody tr th:only-of-type {\n",
       "        vertical-align: middle;\n",
       "    }\n",
       "\n",
       "    .dataframe tbody tr th {\n",
       "        vertical-align: top;\n",
       "    }\n",
       "\n",
       "    .dataframe thead th {\n",
       "        text-align: right;\n",
       "    }\n",
       "</style>\n",
       "<table border=\"1\" class=\"dataframe\">\n",
       "  <thead>\n",
       "    <tr style=\"text-align: right;\">\n",
       "      <th></th>\n",
       "      <th>User Id</th>\n",
       "      <th>Region</th>\n",
       "      <th>Device</th>\n",
       "      <th>Channel</th>\n",
       "      <th>Session Start</th>\n",
       "      <th>Session End</th>\n",
       "    </tr>\n",
       "  </thead>\n",
       "  <tbody>\n",
       "    <tr>\n",
       "      <th>0</th>\n",
       "      <td>981449118918</td>\n",
       "      <td>Russia</td>\n",
       "      <td>iPhone</td>\n",
       "      <td>organic</td>\n",
       "      <td>2022-05-01 02:36:01</td>\n",
       "      <td>2022-05-01 02:45:01</td>\n",
       "    </tr>\n",
       "    <tr>\n",
       "      <th>1</th>\n",
       "      <td>278965908054</td>\n",
       "      <td>Russia</td>\n",
       "      <td>iPhone</td>\n",
       "      <td>organic</td>\n",
       "      <td>2022-05-01 04:46:31</td>\n",
       "      <td>2022-05-01 04:47:35</td>\n",
       "    </tr>\n",
       "    <tr>\n",
       "      <th>2</th>\n",
       "      <td>590706206550</td>\n",
       "      <td>Russia</td>\n",
       "      <td>Mac</td>\n",
       "      <td>organic</td>\n",
       "      <td>2022-05-01 14:09:25</td>\n",
       "      <td>2022-05-01 15:32:08</td>\n",
       "    </tr>\n",
       "    <tr>\n",
       "      <th>3</th>\n",
       "      <td>326433527971</td>\n",
       "      <td>Russia</td>\n",
       "      <td>Android</td>\n",
       "      <td>TipTop</td>\n",
       "      <td>2022-05-01 00:29:59</td>\n",
       "      <td>2022-05-01 00:54:25</td>\n",
       "    </tr>\n",
       "    <tr>\n",
       "      <th>4</th>\n",
       "      <td>349773784594</td>\n",
       "      <td>Russia</td>\n",
       "      <td>Mac</td>\n",
       "      <td>organic</td>\n",
       "      <td>2022-05-01 03:33:35</td>\n",
       "      <td>2022-05-01 03:57:40</td>\n",
       "    </tr>\n",
       "    <tr>\n",
       "      <th>...</th>\n",
       "      <td>...</td>\n",
       "      <td>...</td>\n",
       "      <td>...</td>\n",
       "      <td>...</td>\n",
       "      <td>...</td>\n",
       "      <td>...</td>\n",
       "    </tr>\n",
       "    <tr>\n",
       "      <th>309896</th>\n",
       "      <td>329994900775</td>\n",
       "      <td>Turkey</td>\n",
       "      <td>PC</td>\n",
       "      <td>LeapBob</td>\n",
       "      <td>2022-10-31 13:28:12</td>\n",
       "      <td>2022-10-31 14:39:29</td>\n",
       "    </tr>\n",
       "    <tr>\n",
       "      <th>309897</th>\n",
       "      <td>334903592310</td>\n",
       "      <td>Thailand</td>\n",
       "      <td>PC</td>\n",
       "      <td>lambdaMediaAds</td>\n",
       "      <td>2022-10-31 22:14:52</td>\n",
       "      <td>2022-10-31 22:39:36</td>\n",
       "    </tr>\n",
       "    <tr>\n",
       "      <th>309898</th>\n",
       "      <td>540102010126</td>\n",
       "      <td>China</td>\n",
       "      <td>PC</td>\n",
       "      <td>organic</td>\n",
       "      <td>2022-10-31 01:40:48</td>\n",
       "      <td>2022-10-31 01:41:31</td>\n",
       "    </tr>\n",
       "    <tr>\n",
       "      <th>309899</th>\n",
       "      <td>308736936846</td>\n",
       "      <td>China</td>\n",
       "      <td>Mac</td>\n",
       "      <td>organic</td>\n",
       "      <td>2022-10-31 07:37:34</td>\n",
       "      <td>2022-10-31 07:37:55</td>\n",
       "    </tr>\n",
       "    <tr>\n",
       "      <th>309900</th>\n",
       "      <td>109329042535</td>\n",
       "      <td>China</td>\n",
       "      <td>PC</td>\n",
       "      <td>lambdaMediaAds</td>\n",
       "      <td>2022-10-31 14:17:43</td>\n",
       "      <td>2022-10-31 15:17:04</td>\n",
       "    </tr>\n",
       "  </tbody>\n",
       "</table>\n",
       "<p>309901 rows × 6 columns</p>\n",
       "</div>"
      ],
      "text/plain": [
       "             User Id    Region   Device         Channel        Session Start  \\\n",
       "0       981449118918    Russia   iPhone         organic  2022-05-01 02:36:01   \n",
       "1       278965908054    Russia   iPhone         organic  2022-05-01 04:46:31   \n",
       "2       590706206550    Russia      Mac         organic  2022-05-01 14:09:25   \n",
       "3       326433527971    Russia  Android          TipTop  2022-05-01 00:29:59   \n",
       "4       349773784594    Russia      Mac         organic  2022-05-01 03:33:35   \n",
       "...              ...       ...      ...             ...                  ...   \n",
       "309896  329994900775    Turkey       PC         LeapBob  2022-10-31 13:28:12   \n",
       "309897  334903592310  Thailand       PC  lambdaMediaAds  2022-10-31 22:14:52   \n",
       "309898  540102010126     China       PC         organic  2022-10-31 01:40:48   \n",
       "309899  308736936846     China      Mac         organic  2022-10-31 07:37:34   \n",
       "309900  109329042535     China       PC  lambdaMediaAds  2022-10-31 14:17:43   \n",
       "\n",
       "                Session End  \n",
       "0       2022-05-01 02:45:01  \n",
       "1       2022-05-01 04:47:35  \n",
       "2       2022-05-01 15:32:08  \n",
       "3       2022-05-01 00:54:25  \n",
       "4       2022-05-01 03:57:40  \n",
       "...                     ...  \n",
       "309896  2022-10-31 14:39:29  \n",
       "309897  2022-10-31 22:39:36  \n",
       "309898  2022-10-31 01:41:31  \n",
       "309899  2022-10-31 07:37:55  \n",
       "309900  2022-10-31 15:17:04  \n",
       "\n",
       "[309901 rows x 6 columns]"
      ]
     },
     "execution_count": 17,
     "metadata": {},
     "output_type": "execute_result"
    }
   ],
   "source": [
    "visitation = pd.read_csv('visitation.csv')\n",
    "visitation"
   ]
  },
  {
   "cell_type": "markdown",
   "metadata": {},
   "source": [
    "Здесь были загруженны все предоставленные наборы данных для последующего добавления их в базу данных"
   ]
  },
  {
   "cell_type": "markdown",
   "metadata": {},
   "source": [
    "<h4>Создание базы данных</h4>"
   ]
  },
  {
   "cell_type": "code",
   "execution_count": 34,
   "metadata": {},
   "outputs": [],
   "source": [
    "try:\n",
    "    con = sqlite3.connect('Users.db')\n",
    "    cursor = con.cursor()\n",
    "\n",
    "    cursor.execute('''CREATE TABLE IF NOT EXISTS expenses (\n",
    "                dt TEXT,\n",
    "                Channel TEXT,\n",
    "                costs REAL\n",
    "                )\n",
    "            ''')\n",
    "    cursor.execute('''CREATE TABLE IF NOT EXISTS orders(\n",
    "                User_Id INTEGER PRIMARY KEY,\n",
    "                Event_Dt TEXT,\n",
    "                Revenue REAL \n",
    "                )\n",
    "            ''')\n",
    "    cursor.execute('''CREATE TABLE IF NOT EXISTS visitation(\n",
    "                User_Id\tINTEGER PRIMARY KEY,\n",
    "                Region TEXT,\n",
    "                Device TEXT,\n",
    "                Channel\tTEXT,\n",
    "                Session_Start TEXT,\n",
    "                Session_End TEXT\n",
    "                )\n",
    "            ''')\n",
    "\n",
    "    expenses.to_sql('expenses', con, if_exists='replace')\n",
    "    orders.to_sql('orders', con, if_exists='replace')\n",
    "    visitation.to_sql('visitation', con, if_exists='replace')\n",
    "\n",
    "except sqlite3.Error as e:\n",
    "    print(f'Error {e}')\n",
    "\n",
    "except Exception as e:\n",
    "    print(f'Error {e}')\n",
    "    \n",
    "finally:\n",
    "    if con:\n",
    "        con.close()"
   ]
  },
  {
   "cell_type": "markdown",
   "metadata": {},
   "source": [
    "Здесь создается база данных, где находятся все 3 имеющихся набора данных, а также были предусмотренны ошибки при работе с базой данных и общие ошибки, которые могут возникнуть."
   ]
  },
  {
   "cell_type": "markdown",
   "metadata": {},
   "source": [
    "<h4>Извлечение данных из базы данных</h4>"
   ]
  },
  {
   "cell_type": "code",
   "execution_count": null,
   "metadata": {},
   "outputs": [
    {
     "data": {
      "text/html": [
       "<div>\n",
       "<style scoped>\n",
       "    .dataframe tbody tr th:only-of-type {\n",
       "        vertical-align: middle;\n",
       "    }\n",
       "\n",
       "    .dataframe tbody tr th {\n",
       "        vertical-align: top;\n",
       "    }\n",
       "\n",
       "    .dataframe thead th {\n",
       "        text-align: right;\n",
       "    }\n",
       "</style>\n",
       "<table border=\"1\" class=\"dataframe\">\n",
       "  <thead>\n",
       "    <tr style=\"text-align: right;\">\n",
       "      <th></th>\n",
       "      <th>index</th>\n",
       "      <th>User Id</th>\n",
       "      <th>Region</th>\n",
       "      <th>Device</th>\n",
       "      <th>Channel</th>\n",
       "      <th>Session Start</th>\n",
       "      <th>Session End</th>\n",
       "    </tr>\n",
       "  </thead>\n",
       "  <tbody>\n",
       "    <tr>\n",
       "      <th>0</th>\n",
       "      <td>0</td>\n",
       "      <td>981449118918</td>\n",
       "      <td>Russia</td>\n",
       "      <td>iPhone</td>\n",
       "      <td>organic</td>\n",
       "      <td>2022-05-01 02:36:01</td>\n",
       "      <td>2022-05-01 02:45:01</td>\n",
       "    </tr>\n",
       "    <tr>\n",
       "      <th>1</th>\n",
       "      <td>1</td>\n",
       "      <td>278965908054</td>\n",
       "      <td>Russia</td>\n",
       "      <td>iPhone</td>\n",
       "      <td>organic</td>\n",
       "      <td>2022-05-01 04:46:31</td>\n",
       "      <td>2022-05-01 04:47:35</td>\n",
       "    </tr>\n",
       "    <tr>\n",
       "      <th>2</th>\n",
       "      <td>2</td>\n",
       "      <td>590706206550</td>\n",
       "      <td>Russia</td>\n",
       "      <td>Mac</td>\n",
       "      <td>organic</td>\n",
       "      <td>2022-05-01 14:09:25</td>\n",
       "      <td>2022-05-01 15:32:08</td>\n",
       "    </tr>\n",
       "    <tr>\n",
       "      <th>3</th>\n",
       "      <td>3</td>\n",
       "      <td>326433527971</td>\n",
       "      <td>Russia</td>\n",
       "      <td>Android</td>\n",
       "      <td>TipTop</td>\n",
       "      <td>2022-05-01 00:29:59</td>\n",
       "      <td>2022-05-01 00:54:25</td>\n",
       "    </tr>\n",
       "    <tr>\n",
       "      <th>4</th>\n",
       "      <td>4</td>\n",
       "      <td>349773784594</td>\n",
       "      <td>Russia</td>\n",
       "      <td>Mac</td>\n",
       "      <td>organic</td>\n",
       "      <td>2022-05-01 03:33:35</td>\n",
       "      <td>2022-05-01 03:57:40</td>\n",
       "    </tr>\n",
       "    <tr>\n",
       "      <th>...</th>\n",
       "      <td>...</td>\n",
       "      <td>...</td>\n",
       "      <td>...</td>\n",
       "      <td>...</td>\n",
       "      <td>...</td>\n",
       "      <td>...</td>\n",
       "      <td>...</td>\n",
       "    </tr>\n",
       "    <tr>\n",
       "      <th>309896</th>\n",
       "      <td>309896</td>\n",
       "      <td>329994900775</td>\n",
       "      <td>Turkey</td>\n",
       "      <td>PC</td>\n",
       "      <td>LeapBob</td>\n",
       "      <td>2022-10-31 13:28:12</td>\n",
       "      <td>2022-10-31 14:39:29</td>\n",
       "    </tr>\n",
       "    <tr>\n",
       "      <th>309897</th>\n",
       "      <td>309897</td>\n",
       "      <td>334903592310</td>\n",
       "      <td>Thailand</td>\n",
       "      <td>PC</td>\n",
       "      <td>lambdaMediaAds</td>\n",
       "      <td>2022-10-31 22:14:52</td>\n",
       "      <td>2022-10-31 22:39:36</td>\n",
       "    </tr>\n",
       "    <tr>\n",
       "      <th>309898</th>\n",
       "      <td>309898</td>\n",
       "      <td>540102010126</td>\n",
       "      <td>China</td>\n",
       "      <td>PC</td>\n",
       "      <td>organic</td>\n",
       "      <td>2022-10-31 01:40:48</td>\n",
       "      <td>2022-10-31 01:41:31</td>\n",
       "    </tr>\n",
       "    <tr>\n",
       "      <th>309899</th>\n",
       "      <td>309899</td>\n",
       "      <td>308736936846</td>\n",
       "      <td>China</td>\n",
       "      <td>Mac</td>\n",
       "      <td>organic</td>\n",
       "      <td>2022-10-31 07:37:34</td>\n",
       "      <td>2022-10-31 07:37:55</td>\n",
       "    </tr>\n",
       "    <tr>\n",
       "      <th>309900</th>\n",
       "      <td>309900</td>\n",
       "      <td>109329042535</td>\n",
       "      <td>China</td>\n",
       "      <td>PC</td>\n",
       "      <td>lambdaMediaAds</td>\n",
       "      <td>2022-10-31 14:17:43</td>\n",
       "      <td>2022-10-31 15:17:04</td>\n",
       "    </tr>\n",
       "  </tbody>\n",
       "</table>\n",
       "<p>309901 rows × 7 columns</p>\n",
       "</div>"
      ],
      "text/plain": [
       "         index       User Id    Region   Device         Channel  \\\n",
       "0            0  981449118918    Russia   iPhone         organic   \n",
       "1            1  278965908054    Russia   iPhone         organic   \n",
       "2            2  590706206550    Russia      Mac         organic   \n",
       "3            3  326433527971    Russia  Android          TipTop   \n",
       "4            4  349773784594    Russia      Mac         organic   \n",
       "...        ...           ...       ...      ...             ...   \n",
       "309896  309896  329994900775    Turkey       PC         LeapBob   \n",
       "309897  309897  334903592310  Thailand       PC  lambdaMediaAds   \n",
       "309898  309898  540102010126     China       PC         organic   \n",
       "309899  309899  308736936846     China      Mac         organic   \n",
       "309900  309900  109329042535     China       PC  lambdaMediaAds   \n",
       "\n",
       "              Session Start          Session End  \n",
       "0       2022-05-01 02:36:01  2022-05-01 02:45:01  \n",
       "1       2022-05-01 04:46:31  2022-05-01 04:47:35  \n",
       "2       2022-05-01 14:09:25  2022-05-01 15:32:08  \n",
       "3       2022-05-01 00:29:59  2022-05-01 00:54:25  \n",
       "4       2022-05-01 03:33:35  2022-05-01 03:57:40  \n",
       "...                     ...                  ...  \n",
       "309896  2022-10-31 13:28:12  2022-10-31 14:39:29  \n",
       "309897  2022-10-31 22:14:52  2022-10-31 22:39:36  \n",
       "309898  2022-10-31 01:40:48  2022-10-31 01:41:31  \n",
       "309899  2022-10-31 07:37:34  2022-10-31 07:37:55  \n",
       "309900  2022-10-31 14:17:43  2022-10-31 15:17:04  \n",
       "\n",
       "[309901 rows x 7 columns]"
      ]
     },
     "execution_count": 40,
     "metadata": {},
     "output_type": "execute_result"
    }
   ],
   "source": [
    "try:\n",
    "    con = sqlite3.connect('Users.db')\n",
    "    cursor = con.cursor()\n",
    "\n",
    "    expenses = pd.read_sql_query('SELECT * FROM expenses', con)\n",
    "    orders = pd.read_sql_query('SELECT * FROM orders', con)\n",
    "    visitation = pd.read_sql_query('SELECT * FROM visitation', con)\n",
    "    visitation\n",
    "    \n",
    "except sqlite3.Error as e:\n",
    "    print(f'Error {e}')\n",
    "\n",
    "except Exception as e:\n",
    "    print(f'Error {e}')\n",
    "    \n",
    "finally:\n",
    "    if con:\n",
    "        con.close()"
   ]
  },
  {
   "cell_type": "markdown",
   "metadata": {},
   "source": [
    "Здесь извлекаются все наборы данных в формате DataFrame, которые были загружены в базу данных и точно также предусматриваются ошибки при чтении данных и общие ошибки."
   ]
  },
  {
   "cell_type": "markdown",
   "metadata": {},
   "source": [
    "<h3>1.2 Предварительная обработка данных</h3>"
   ]
  },
  {
   "cell_type": "code",
   "execution_count": 43,
   "metadata": {},
   "outputs": [
    {
     "name": "stdout",
     "output_type": "stream",
     "text": [
      "<class 'pandas.core.frame.DataFrame'>\n",
      "RangeIndex: 1800 entries, 0 to 1799\n",
      "Data columns (total 3 columns):\n",
      " #   Column   Non-Null Count  Dtype  \n",
      "---  ------   --------------  -----  \n",
      " 0   dt       1800 non-null   object \n",
      " 1   Channel  1800 non-null   object \n",
      " 2   costs    1800 non-null   float64\n",
      "dtypes: float64(1), object(2)\n",
      "memory usage: 42.3+ KB\n"
     ]
    }
   ],
   "source": [
    "expenses.drop(columns='index', inplace=True)\n",
    "expenses.info()"
   ]
  },
  {
   "cell_type": "code",
   "execution_count": 44,
   "metadata": {},
   "outputs": [
    {
     "data": {
      "text/plain": [
       "0"
      ]
     },
     "execution_count": 44,
     "metadata": {},
     "output_type": "execute_result"
    }
   ],
   "source": [
    "expenses.duplicated().sum()"
   ]
  },
  {
   "cell_type": "code",
   "execution_count": 48,
   "metadata": {},
   "outputs": [
    {
     "name": "stdout",
     "output_type": "stream",
     "text": [
      "<class 'pandas.core.frame.DataFrame'>\n",
      "RangeIndex: 1800 entries, 0 to 1799\n",
      "Data columns (total 3 columns):\n",
      " #   Column   Non-Null Count  Dtype         \n",
      "---  ------   --------------  -----         \n",
      " 0   dt       1800 non-null   datetime64[ns]\n",
      " 1   Channel  1800 non-null   object        \n",
      " 2   costs    1800 non-null   float64       \n",
      "dtypes: datetime64[ns](1), float64(1), object(1)\n",
      "memory usage: 42.3+ KB\n"
     ]
    }
   ],
   "source": [
    "expenses['dt'] = pd.to_datetime(expenses['dt'], format='%Y-%m-%d')\n",
    "expenses.info()"
   ]
  },
  {
   "cell_type": "code",
   "execution_count": 49,
   "metadata": {},
   "outputs": [
    {
     "data": {
      "image/png": "[encoded data removed]",
      "text/plain": [
       "<Figure size 640x480 with 1 Axes>"
      ]
     },
     "metadata": {},
     "output_type": "display_data"
    }
   ],
   "source": [
    "expenses['costs'].plot(kind='box')\n",
    "plt.show()"
   ]
  },
  {
   "cell_type": "code",
   "execution_count": 58,
   "metadata": {},
   "outputs": [
    {
     "data": {
      "text/plain": [
       "Channel\n",
       "AdNonSense             21.729167\n",
       "FaceBoom              180.253333\n",
       "LeapBob                 9.986667\n",
       "MediaTornado            5.302667\n",
       "OppleCreativeMedia     11.951389\n",
       "RocketSuperAds         10.183333\n",
       "TipTop                304.173889\n",
       "WahooNetBanner         28.616667\n",
       "YRabbit                 5.245667\n",
       "lambdaMediaAds          8.653333\n",
       "Name: costs, dtype: float64"
      ]
     },
     "execution_count": 58,
     "metadata": {},
     "output_type": "execute_result"
    }
   ],
   "source": [
    "\n",
    "channels_cost = expenses.groupby('Channel')['costs'].mean()\n",
    "channels_cost"
   ]
  },
  {
   "cell_type": "code",
   "execution_count": 59,
   "metadata": {},
   "outputs": [
    {
     "name": "stdout",
     "output_type": "stream",
     "text": [
      "<class 'pandas.core.frame.DataFrame'>\n",
      "RangeIndex: 40212 entries, 0 to 40211\n",
      "Data columns (total 3 columns):\n",
      " #   Column    Non-Null Count  Dtype  \n",
      "---  ------    --------------  -----  \n",
      " 0   User Id   40212 non-null  int64  \n",
      " 1   Event Dt  40212 non-null  object \n",
      " 2   Revenue   40212 non-null  float64\n",
      "dtypes: float64(1), int64(1), object(1)\n",
      "memory usage: 942.6+ KB\n"
     ]
    }
   ],
   "source": [
    "orders.drop(columns='index', inplace=True)\n",
    "orders.info()"
   ]
  },
  {
   "cell_type": "code",
   "execution_count": 61,
   "metadata": {},
   "outputs": [
    {
     "name": "stdout",
     "output_type": "stream",
     "text": [
      "<class 'pandas.core.frame.DataFrame'>\n",
      "RangeIndex: 40212 entries, 0 to 40211\n",
      "Data columns (total 3 columns):\n",
      " #   Column    Non-Null Count  Dtype         \n",
      "---  ------    --------------  -----         \n",
      " 0   User Id   40212 non-null  int64         \n",
      " 1   Event Dt  40212 non-null  datetime64[ns]\n",
      " 2   Revenue   40212 non-null  float64       \n",
      "dtypes: datetime64[ns](1), float64(1), int64(1)\n",
      "memory usage: 942.6 KB\n"
     ]
    }
   ],
   "source": [
    "orders['Event Dt'] = pd.to_datetime(orders['Event Dt'], format='%Y-%m-%d %H:%M:%S')\n",
    "orders.info()"
   ]
  },
  {
   "cell_type": "code",
   "execution_count": 72,
   "metadata": {},
   "outputs": [
    {
     "data": {
      "text/plain": [
       "array([ 4.99,  5.99,  9.99, 49.99, 19.99])"
      ]
     },
     "execution_count": 72,
     "metadata": {},
     "output_type": "execute_result"
    }
   ],
   "source": [
    "orders['Revenue'].unique()\n"
   ]
  },
  {
   "cell_type": "code",
   "execution_count": 77,
   "metadata": {},
   "outputs": [
    {
     "data": {
      "text/html": [
       "<div>\n",
       "<style scoped>\n",
       "    .dataframe tbody tr th:only-of-type {\n",
       "        vertical-align: middle;\n",
       "    }\n",
       "\n",
       "    .dataframe tbody tr th {\n",
       "        vertical-align: top;\n",
       "    }\n",
       "\n",
       "    .dataframe thead th {\n",
       "        text-align: right;\n",
       "    }\n",
       "</style>\n",
       "<table border=\"1\" class=\"dataframe\">\n",
       "  <thead>\n",
       "    <tr style=\"text-align: right;\">\n",
       "      <th></th>\n",
       "      <th>User Id</th>\n",
       "      <th>Event Dt</th>\n",
       "      <th>Revenue</th>\n",
       "    </tr>\n",
       "  </thead>\n",
       "  <tbody>\n",
       "    <tr>\n",
       "      <th>168</th>\n",
       "      <td>204226234942</td>\n",
       "      <td>2022-05-06 15:26:40</td>\n",
       "      <td>9.99</td>\n",
       "    </tr>\n",
       "    <tr>\n",
       "      <th>242</th>\n",
       "      <td>162122420677</td>\n",
       "      <td>2022-05-08 18:05:59</td>\n",
       "      <td>9.99</td>\n",
       "    </tr>\n",
       "    <tr>\n",
       "      <th>248</th>\n",
       "      <td>204634485980</td>\n",
       "      <td>2022-05-08 00:45:53</td>\n",
       "      <td>9.99</td>\n",
       "    </tr>\n",
       "    <tr>\n",
       "      <th>441</th>\n",
       "      <td>510685611257</td>\n",
       "      <td>2022-05-11 00:25:51</td>\n",
       "      <td>9.99</td>\n",
       "    </tr>\n",
       "    <tr>\n",
       "      <th>500</th>\n",
       "      <td>59649027450</td>\n",
       "      <td>2022-05-12 18:48:52</td>\n",
       "      <td>9.99</td>\n",
       "    </tr>\n",
       "    <tr>\n",
       "      <th>...</th>\n",
       "      <td>...</td>\n",
       "      <td>...</td>\n",
       "      <td>...</td>\n",
       "    </tr>\n",
       "    <tr>\n",
       "      <th>39634</th>\n",
       "      <td>714957010899</td>\n",
       "      <td>2022-10-25 04:46:35</td>\n",
       "      <td>9.99</td>\n",
       "    </tr>\n",
       "    <tr>\n",
       "      <th>39745</th>\n",
       "      <td>740442294667</td>\n",
       "      <td>2022-10-26 19:55:39</td>\n",
       "      <td>9.99</td>\n",
       "    </tr>\n",
       "    <tr>\n",
       "      <th>39895</th>\n",
       "      <td>211622511289</td>\n",
       "      <td>2022-10-28 15:30:46</td>\n",
       "      <td>9.99</td>\n",
       "    </tr>\n",
       "    <tr>\n",
       "      <th>40035</th>\n",
       "      <td>311736507005</td>\n",
       "      <td>2022-10-29 05:44:30</td>\n",
       "      <td>9.99</td>\n",
       "    </tr>\n",
       "    <tr>\n",
       "      <th>40161</th>\n",
       "      <td>834407090977</td>\n",
       "      <td>2022-10-31 15:20:49</td>\n",
       "      <td>9.99</td>\n",
       "    </tr>\n",
       "  </tbody>\n",
       "</table>\n",
       "<p>385 rows × 3 columns</p>\n",
       "</div>"
      ],
      "text/plain": [
       "            User Id            Event Dt  Revenue\n",
       "168    204226234942 2022-05-06 15:26:40     9.99\n",
       "242    162122420677 2022-05-08 18:05:59     9.99\n",
       "248    204634485980 2022-05-08 00:45:53     9.99\n",
       "441    510685611257 2022-05-11 00:25:51     9.99\n",
       "500     59649027450 2022-05-12 18:48:52     9.99\n",
       "...             ...                 ...      ...\n",
       "39634  714957010899 2022-10-25 04:46:35     9.99\n",
       "39745  740442294667 2022-10-26 19:55:39     9.99\n",
       "39895  211622511289 2022-10-28 15:30:46     9.99\n",
       "40035  311736507005 2022-10-29 05:44:30     9.99\n",
       "40161  834407090977 2022-10-31 15:20:49     9.99\n",
       "\n",
       "[385 rows x 3 columns]"
      ]
     },
     "execution_count": 77,
     "metadata": {},
     "output_type": "execute_result"
    }
   ],
   "source": [
    "orders[orders['Revenue'] == 9.99]"
   ]
  },
  {
   "cell_type": "code",
   "execution_count": 78,
   "metadata": {},
   "outputs": [
    {
     "name": "stdout",
     "output_type": "stream",
     "text": [
      "<class 'pandas.core.frame.DataFrame'>\n",
      "RangeIndex: 309901 entries, 0 to 309900\n",
      "Data columns (total 6 columns):\n",
      " #   Column         Non-Null Count   Dtype \n",
      "---  ------         --------------   ----- \n",
      " 0   User Id        309901 non-null  int64 \n",
      " 1   Region         309901 non-null  object\n",
      " 2   Device         309901 non-null  object\n",
      " 3   Channel        309901 non-null  object\n",
      " 4   Session Start  309901 non-null  object\n",
      " 5   Session End    309901 non-null  object\n",
      "dtypes: int64(1), object(5)\n",
      "memory usage: 14.2+ MB\n"
     ]
    }
   ],
   "source": [
    "visitation.drop(columns='index', inplace=True)\n",
    "visitation.info()"
   ]
  },
  {
   "cell_type": "code",
   "execution_count": 79,
   "metadata": {},
   "outputs": [
    {
     "name": "stdout",
     "output_type": "stream",
     "text": [
      "<class 'pandas.core.frame.DataFrame'>\n",
      "RangeIndex: 309901 entries, 0 to 309900\n",
      "Data columns (total 6 columns):\n",
      " #   Column         Non-Null Count   Dtype         \n",
      "---  ------         --------------   -----         \n",
      " 0   User Id        309901 non-null  int64         \n",
      " 1   Region         309901 non-null  object        \n",
      " 2   Device         309901 non-null  object        \n",
      " 3   Channel        309901 non-null  object        \n",
      " 4   Session Start  309901 non-null  datetime64[ns]\n",
      " 5   Session End    309901 non-null  datetime64[ns]\n",
      "dtypes: datetime64[ns](2), int64(1), object(3)\n",
      "memory usage: 14.2+ MB\n"
     ]
    }
   ],
   "source": [
    "visitation['Session Start'] = pd.to_datetime(visitation['Session Start'], format='%Y-%m-%d %H:%M:%S')\n",
    "visitation['Session End'] = pd.to_datetime(visitation['Session End'], format='%Y-%m-%d %H:%M:%S')\n",
    "visitation.info()"
   ]
  },
  {
   "cell_type": "code",
   "execution_count": 81,
   "metadata": {},
   "outputs": [
    {
     "data": {
      "text/plain": [
       "0"
      ]
     },
     "execution_count": 81,
     "metadata": {},
     "output_type": "execute_result"
    }
   ],
   "source": [
    "visitation.duplicated().sum()"
   ]
  },
  {
   "cell_type": "code",
   "execution_count": 82,
   "metadata": {},
   "outputs": [
    {
     "data": {
      "text/plain": [
       "array(['Russia', 'Turkey', 'Thailand', 'China'], dtype=object)"
      ]
     },
     "execution_count": 82,
     "metadata": {},
     "output_type": "execute_result"
    }
   ],
   "source": [
    "visitation['Region'].unique()"
   ]
  },
  {
   "cell_type": "code",
   "execution_count": 83,
   "metadata": {},
   "outputs": [
    {
     "data": {
      "text/plain": [
       "array(['iPhone', 'Mac', 'Android', 'PC'], dtype=object)"
      ]
     },
     "execution_count": 83,
     "metadata": {},
     "output_type": "execute_result"
    }
   ],
   "source": [
    "visitation['Device'].unique()"
   ]
  },
  {
   "cell_type": "code",
   "execution_count": 84,
   "metadata": {},
   "outputs": [
    {
     "data": {
      "text/plain": [
       "array(['organic', 'TipTop', 'RocketSuperAds', 'YRabbit', 'FaceBoom',\n",
       "       'MediaTornado', 'AdNonSense', 'LeapBob', 'WahooNetBanner',\n",
       "       'OppleCreativeMedia', 'lambdaMediaAds'], dtype=object)"
      ]
     },
     "execution_count": 84,
     "metadata": {},
     "output_type": "execute_result"
    }
   ],
   "source": [
    "visitation['Channel'].unique()"
   ]
  },
  {
   "cell_type": "code",
   "execution_count": null,
   "metadata": {},
   "outputs": [],
   "source": []
  }
 ],
 "metadata": {
  "kernelspec": {
   "display_name": "Python 3",
   "language": "python",
   "name": "python3"
  },
  "language_info": {
   "codemirror_mode": {
    "name": "ipython",
    "version": 3
   },
   "file_extension": ".py",
   "mimetype": "text/x-python",
   "name": "python",
   "nbconvert_exporter": "python",
   "pygments_lexer": "ipython3",
   "version": "3.11.2"
  }
 },
 "nbformat": 4,
 "nbformat_minor": 2
}
